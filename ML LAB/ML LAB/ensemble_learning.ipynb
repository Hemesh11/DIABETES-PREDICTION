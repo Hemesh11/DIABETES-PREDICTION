{
 "cells": [
  {
   "cell_type": "code",
   "execution_count": 78,
   "id": "74909511",
   "metadata": {},
   "outputs": [],
   "source": [
    "import pandas as pd\n",
    "from sklearn.model_selection import train_test_split\n",
    "from sklearn.ensemble import RandomForestClassifier, GradientBoostingClassifier, AdaBoostClassifier\n",
    "from sklearn.metrics import accuracy_score\n",
    "\n",
    "# Load the dataset\n",
    "data = pd.read_excel(\"course.xlsx\")\n",
    "\n",
    "# Convert categorical variables to numerical format\n",
    "data['Gender'] = data['Gender'].map({'Male': 1, 'Female': 0})\n",
    "data['Interests'] = data['Interests'].map({'Science': 0, 'Commerce': 1, 'Arts': 2})\n",
    "data['Parental_Influence']=data['Parental_Influence'].map({'High':2,\"Low\":0,\"Medium\":1})\n",
    "binary_columns = ['Counsellor_Recommendation', 'Cousin_Recommendation', \n",
    "                  'Teacher_Recommendation', 'Degree_Student_Recommendation', 'Working_Professional_Recommendation']\n",
    "for column in binary_columns:\n",
    "    data[column] = data[column].map({'Yes': 1, 'No': 0})\n",
    "    \n",
    "course_mapping = {'Business Administration': 0, 'Engineering': 1, 'Humanities': 2, 'Medicine': 3}\n",
    "data['Course_Chosen'] = data['Course_Chosen'].map(course_mapping)\n",
    "# Separate features (X) and target variable (y)\n",
    "X = data.drop(columns=['Student_ID', 'Course_Chosen'])\n",
    "y= data['Course_Chosen']"
   ]
  },
  {
   "cell_type": "code",
   "execution_count": 79,
   "id": "130d5664",
   "metadata": {},
   "outputs": [
    {
     "name": "stdout",
     "output_type": "stream",
     "text": [
      "    Gender  Academic_Performance  Interests  Counsellor_Recommendation  \\\n",
      "0        1                    85          0                          1   \n",
      "1        0                    75          2                          0   \n",
      "2        1                    92          1                          1   \n",
      "3        0                    80          0                          1   \n",
      "4        1                    78          0                          1   \n",
      "..     ...                   ...        ...                        ...   \n",
      "95       1                    77          1                          1   \n",
      "96       0                    89          0                          1   \n",
      "97       1                    76          2                          0   \n",
      "98       0                    88          1                          1   \n",
      "99       1                    80          0                          1   \n",
      "\n",
      "    Parental_Influence  Cousin_Recommendation  Teacher_Recommendation  \\\n",
      "0                    2                      1                       1   \n",
      "1                    1                      1                       0   \n",
      "2                    2                      0                       1   \n",
      "3                    2                      1                       1   \n",
      "4                    1                      1                       1   \n",
      "..                 ...                    ...                     ...   \n",
      "95                   1                      1                       1   \n",
      "96                   2                      1                       1   \n",
      "97                   1                      1                       1   \n",
      "98                   2                      1                       1   \n",
      "99                   2                      1                       1   \n",
      "\n",
      "    Degree_Student_Recommendation  Working_Professional_Recommendation  \n",
      "0                               0                                    0  \n",
      "1                               1                                    1  \n",
      "2                               1                                    0  \n",
      "3                               0                                    1  \n",
      "4                               0                                    0  \n",
      "..                            ...                                  ...  \n",
      "95                              1                                    1  \n",
      "96                              1                                    1  \n",
      "97                              1                                    1  \n",
      "98                              1                                    1  \n",
      "99                              1                                    0  \n",
      "\n",
      "[100 rows x 9 columns]\n"
     ]
    }
   ],
   "source": [
    "print(X)"
   ]
  },
  {
   "cell_type": "code",
   "execution_count": 80,
   "id": "4d697c5d",
   "metadata": {},
   "outputs": [
    {
     "name": "stdout",
     "output_type": "stream",
     "text": [
      "0     1\n",
      "1     2\n",
      "2     0\n",
      "3     3\n",
      "4     1\n",
      "     ..\n",
      "95    0\n",
      "96    3\n",
      "97    2\n",
      "98    0\n",
      "99    3\n",
      "Name: Course_Chosen, Length: 100, dtype: int64\n"
     ]
    }
   ],
   "source": [
    "print(y)"
   ]
  },
  {
   "cell_type": "code",
   "execution_count": 81,
   "id": "44859be5",
   "metadata": {},
   "outputs": [
    {
     "name": "stdout",
     "output_type": "stream",
     "text": [
      "Number of unique species in dataset are:  4\n"
     ]
    }
   ],
   "source": [
    "total_classes = y.nunique() \n",
    "print(\"Number of unique species in dataset are: \",total_classes)\n"
   ]
  },
  {
   "cell_type": "code",
   "execution_count": 82,
   "id": "bda4adbf",
   "metadata": {},
   "outputs": [
    {
     "name": "stdout",
     "output_type": "stream",
     "text": [
      "Course_Chosen\n",
      "0    34\n",
      "3    31\n",
      "2    28\n",
      "1     7\n",
      "Name: count, dtype: int64\n"
     ]
    }
   ],
   "source": [
    "distribution = y.value_counts() \n",
    "print(distribution)"
   ]
  },
  {
   "cell_type": "code",
   "execution_count": 83,
   "id": "b1d9565c",
   "metadata": {},
   "outputs": [
    {
     "name": "stdout",
     "output_type": "stream",
     "text": [
      "0     1\n",
      "1     2\n",
      "2     0\n",
      "3     3\n",
      "4     1\n",
      "     ..\n",
      "95    0\n",
      "96    3\n",
      "97    2\n",
      "98    0\n",
      "99    3\n",
      "Name: Course_Chosen, Length: 100, dtype: int64\n",
      "    Gender  Academic_Performance  Interests  Counsellor_Recommendation  \\\n",
      "15       1                    71          2                          0   \n",
      "40       0                    81          2                          0   \n",
      "96       0                    89          0                          1   \n",
      "9        1                    90          0                          1   \n",
      "72       0                    85          0                          1   \n",
      "..     ...                   ...        ...                        ...   \n",
      "60       0                    74          0                          1   \n",
      "71       1                    79          1                          1   \n",
      "14       0                    83          1                          1   \n",
      "92       0                    90          1                          1   \n",
      "51       1                    77          0                          1   \n",
      "\n",
      "    Parental_Influence  Cousin_Recommendation  Teacher_Recommendation  \\\n",
      "15                   0                      1                       1   \n",
      "40                   1                      1                       1   \n",
      "96                   2                      1                       1   \n",
      "9                    2                      1                       1   \n",
      "72                   2                      1                       1   \n",
      "..                 ...                    ...                     ...   \n",
      "60                   2                      0                       1   \n",
      "71                   1                      0                       1   \n",
      "14                   1                      1                       1   \n",
      "92                   2                      1                       1   \n",
      "51                   2                      1                       1   \n",
      "\n",
      "    Degree_Student_Recommendation  Working_Professional_Recommendation  \n",
      "15                              0                                    1  \n",
      "40                              1                                    0  \n",
      "96                              1                                    1  \n",
      "9                               1                                    1  \n",
      "72                              1                                    1  \n",
      "..                            ...                                  ...  \n",
      "60                              1                                    0  \n",
      "71                              1                                    0  \n",
      "14                              1                                    0  \n",
      "92                              1                                    1  \n",
      "51                              1                                    1  \n",
      "\n",
      "[75 rows x 9 columns]\n",
      "15    2\n",
      "40    2\n",
      "96    3\n",
      "9     1\n",
      "72    3\n",
      "     ..\n",
      "60    3\n",
      "71    0\n",
      "14    0\n",
      "92    0\n",
      "51    3\n",
      "Name: Course_Chosen, Length: 75, dtype: int64\n"
     ]
    }
   ],
   "source": [
    "X_train, X_val, y_train, y_val = train_test_split( X, y, test_size=0.25, random_state=42) \n",
    "print(y)\n",
    "print(X_train)\n",
    "print(y_train)"
   ]
  },
  {
   "cell_type": "markdown",
   "id": "6d3b325a",
   "metadata": {},
   "source": [
    "# Adaboost "
   ]
  },
  {
   "cell_type": "code",
   "execution_count": 88,
   "id": "8699c373",
   "metadata": {},
   "outputs": [],
   "source": [
    "\n",
    "# Creating adaboost classifier model \n",
    "adb = AdaBoostClassifier() \n",
    "adb_model = adb.fit(X_train,y_train)\n"
   ]
  },
  {
   "cell_type": "code",
   "execution_count": 90,
   "id": "41be5acf",
   "metadata": {},
   "outputs": [
    {
     "name": "stdout",
     "output_type": "stream",
     "text": [
      "The accuracy of the model on validation set is 0.88\n"
     ]
    }
   ],
   "source": [
    "print(\"The accuracy of the model on validation set is\", adb_model.score(X_val,y_val))"
   ]
  },
  {
   "cell_type": "markdown",
   "id": "737d33b1",
   "metadata": {},
   "source": [
    "# Random Forest"
   ]
  },
  {
   "cell_type": "code",
   "execution_count": 86,
   "id": "fe56d27f",
   "metadata": {},
   "outputs": [
    {
     "name": "stdout",
     "output_type": "stream",
     "text": [
      "Random Forest Accuracy: 0.88\n"
     ]
    }
   ],
   "source": [
    "from sklearn.ensemble import RandomForestClassifier\n",
    "\n",
    "# Creating Random Forest classifier model\n",
    "rf = RandomForestClassifier()\n",
    "rf_model = rf.fit(X_train, y_train)\n",
    "\n",
    "# Predictions on the validation set\n",
    "y_pred_rf = rf_model.predict(X_val)\n",
    "\n",
    "# Calculate accuracy\n",
    "accuracy_rf = accuracy_score(y_val, y_pred_rf)\n",
    "print(\"Random Forest Accuracy:\", accuracy_rf)\n"
   ]
  },
  {
   "cell_type": "markdown",
   "id": "db2e00af",
   "metadata": {},
   "source": [
    "# XGBoost"
   ]
  },
  {
   "cell_type": "code",
   "execution_count": 87,
   "id": "dbf0a37d",
   "metadata": {},
   "outputs": [
    {
     "name": "stdout",
     "output_type": "stream",
     "text": [
      "XGBoost Accuracy: 0.88\n"
     ]
    }
   ],
   "source": [
    "\n",
    "\n",
    "# Separate features (X) and target variable (y)\n",
    "X = data.drop(columns=['Student_ID', 'Course_Chosen'])\n",
    "y = data['Course_Chosen']\n",
    "\n",
    "# Split the data into training and validation sets\n",
    "X_train, X_val, y_train, y_val = train_test_split(X, y, test_size=0.25, random_state=42)\n",
    "\n",
    "# Creating XGBoost classifier model\n",
    "xgb_model = xgb.XGBClassifier()\n",
    "xgb_model.fit(X_train, y_train)\n",
    "\n",
    "# Predictions on the validation set\n",
    "y_pred_xgb = xgb_model.predict(X_val)\n",
    "\n",
    "# Calculate accuracy\n",
    "accuracy_xgb = accuracy_score(y_val, y_pred_xgb)\n",
    "print(\"XGBoost Accuracy:\", accuracy_xgb)\n"
   ]
  }
 ],
 "metadata": {
  "kernelspec": {
   "display_name": "Python 3 (ipykernel)",
   "language": "python",
   "name": "python3"
  },
  "language_info": {
   "codemirror_mode": {
    "name": "ipython",
    "version": 3
   },
   "file_extension": ".py",
   "mimetype": "text/x-python",
   "name": "python",
   "nbconvert_exporter": "python",
   "pygments_lexer": "ipython3",
   "version": "3.11.5"
  }
 },
 "nbformat": 4,
 "nbformat_minor": 5
}
